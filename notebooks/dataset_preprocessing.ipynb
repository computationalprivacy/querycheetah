{
 "cells": [
  {
   "cell_type": "code",
   "execution_count": 1,
   "id": "initial_id",
   "metadata": {
    "tags": []
   },
   "outputs": [],
   "source": [
    "import pandas as pd\n",
    "import numpy as np\n",
    "import matplotlib.pyplot as plt\n",
    "import pickle\n",
    "import os\n",
    "import tqdm"
   ]
  },
  {
   "cell_type": "code",
   "execution_count": 2,
   "id": "cd27f64d-23f3-499e-9566-0fef83028e04",
   "metadata": {},
   "outputs": [],
   "source": [
    "def drop_columns(df, columns):\n",
    "    return df.drop(columns=columns, inplace=False)\n",
    "\n",
    "def discretize_columns(df, columns):\n",
    "    column2discrete_value2value = {}\n",
    "    for column in columns:\n",
    "        value2discretized_value = {v: i for i, v in enumerate(sorted_with_nans(df[column].unique()))}\n",
    "        column2discrete_value2value[column] = {v: i for i,v in value2discretized_value.items()}\n",
    "        df[column] = [value2discretized_value[x] if not pd.isnull(x) else None for x in df[column]]\n",
    "    return df, column2discrete_value2value\n",
    "\n",
    "def sorted_with_nans(l):\n",
    "    return sorted(l, key = lambda x : '' if pd.isnull(x) else x)\n",
    "\n",
    "def process_column_names(column_names):\n",
    "    return [column_name.strip().lower().replace('-', '') for column_name in column_names]"
   ]
  },
  {
   "cell_type": "markdown",
   "id": "0bbd9206-ffe7-4476-9c22-c6bd7977b86d",
   "metadata": {},
   "source": [
    "# 1. Adult"
   ]
  },
  {
   "cell_type": "markdown",
   "id": "91d9cd3c-bdf6-4b9f-93d7-e630f628ea61",
   "metadata": {},
   "source": [
    "The dataset is available here: https://archive.ics.uci.edu/dataset/2/adult.\n",
    "Download it in folder `datasets/adult`"
   ]
  },
  {
   "cell_type": "code",
   "execution_count": 3,
   "id": "f77d26ec-8bb3-4b69-a48b-1f0646192c30",
   "metadata": {},
   "outputs": [],
   "source": [
    "# Divide the columns into continous and non_continous\n",
    "column_names = ['age', 'workclass', 'fnlwgt', 'education', 'education-num', 'marital-status', 'occupation', 'relationship', 'race', 'sex', 'capital-gain', 'capital-loss', 'hours-per-week',' native-country', 'income']\n",
    "continuous_columns = ['age', 'fnlwgt', 'education-num', 'capital-gain', 'capital-loss', 'hours-per-week']\n",
    "\n",
    "column_names, continuous_columns = process_column_names(column_names), process_column_names(continuous_columns)\n",
    "non_continuous_columns = [column_name for column_name in column_names if column_name not in continuous_columns]"
   ]
  },
  {
   "cell_type": "code",
   "execution_count": 4,
   "id": "166079e8-0485-47e7-8ece-fa37558e3a54",
   "metadata": {},
   "outputs": [],
   "source": [
    "# Load the downloaded dataset\n",
    "adult_train = pd.read_csv('../datasets/adult/adult.data', names=column_names)\n",
    "adult_test = pd.read_csv('../datasets/adult/adult.test', skiprows=1, names=column_names)\n",
    "adult = pd.concat((adult_train, adult_test), ignore_index=True)"
   ]
  },
  {
   "cell_type": "code",
   "execution_count": 5,
   "id": "25b95e1b-d22c-4220-b16e-f1c38abaf3f9",
   "metadata": {},
   "outputs": [],
   "source": [
    "# Replace missing values in categorical columns with \"Unknown\" category\n",
    "adult = adult.applymap(lambda x: x.strip() if isinstance(x, str) else x)\n",
    "adult[non_continuous_columns] = adult[non_continuous_columns].applymap(lambda x: 'Unknown' if isinstance(x, str) and x.strip() == '?' else x)"
   ]
  },
  {
   "cell_type": "markdown",
   "id": "0b9fbdad-339e-43a6-bfef-b8c9cf8b9386",
   "metadata": {},
   "source": [
    "## 1.1 Adult: Original dataset for attribute inference attacks"
   ]
  },
  {
   "cell_type": "code",
   "execution_count": 6,
   "id": "9151671c-7be4-4425-a8f9-828dc7700b61",
   "metadata": {},
   "outputs": [],
   "source": [
    "columns_to_drop = ['fnlwgt', 'income']\n",
    "adult_aia = drop_columns(adult, columns_to_drop)\n",
    "\n",
    "column_names_aia = [column_name for column_name in column_names if column_name not in columns_to_drop]\n",
    "continuous_columns_aia = [column_name for column_name in continuous_columns if column_name not in columns_to_drop]\n",
    "non_continuous_columns_aia = [column_name for column_name in column_names_aia if column_name not in continuous_columns_aia]"
   ]
  },
  {
   "cell_type": "code",
   "execution_count": 7,
   "id": "7af04b4b-8184-41b8-bd04-5a998e47f59d",
   "metadata": {},
   "outputs": [],
   "source": [
    "adult_aia, column2discrete_value2value_aia = discretize_columns(adult_aia, non_continuous_columns_aia)"
   ]
  },
  {
   "cell_type": "code",
   "execution_count": 8,
   "id": "facaa374-7fff-47af-8529-4ba8eb97574e",
   "metadata": {},
   "outputs": [],
   "source": [
    "adult_aia.to_csv('../datasets/adult/final_dataset.csv', index=False)"
   ]
  },
  {
   "cell_type": "code",
   "execution_count": 9,
   "id": "b62f7586-7332-4cfc-9c0a-a9e7537b6f18",
   "metadata": {},
   "outputs": [],
   "source": [
    "with open('../datasets/adult/final_continuous_columns.pickle', 'wb') as file:\n",
    "    pickle.dump(continuous_columns_aia, file)\n",
    "\n",
    "with open('../datasets/adult/final_column2discrete_value2value.pickle', 'wb') as file:\n",
    "    pickle.dump(column2discrete_value2value_aia, file)"
   ]
  },
  {
   "cell_type": "markdown",
   "id": "e0320b71-a110-4058-b417-8a637cce5c65",
   "metadata": {},
   "source": [
    "## 1.2 Adult: Original dataset for membership inference attacks"
   ]
  },
  {
   "cell_type": "code",
   "execution_count": 10,
   "id": "c12b63f1-7c09-472a-8634-2e28d2c8cb41",
   "metadata": {},
   "outputs": [],
   "source": [
    "if not os.path.exists('../datasets/adult_with_sensitive'):\n",
    "    os.makedirs('../datasets/adult_with_sensitive')"
   ]
  },
  {
   "cell_type": "code",
   "execution_count": 11,
   "id": "dc2aa742-c554-4d47-a445-5fb2b244aed2",
   "metadata": {},
   "outputs": [],
   "source": [
    "columns_to_drop = ['fnlwgt']\n",
    "adult_mia = drop_columns(adult, columns_to_drop)\n",
    "\n",
    "adult_mia['income'] = [value[:-1] if value[-1] == '.' else value for value in adult_mia['income']]\n",
    "\n",
    "column_names_mia = [column_name for column_name in column_names if column_name not in columns_to_drop]\n",
    "continuous_columns_mia = [column_name for column_name in continuous_columns if column_name not in columns_to_drop]\n",
    "non_continuous_columns_mia = [column_name for column_name in column_names_mia if column_name not in continuous_columns_mia]"
   ]
  },
  {
   "cell_type": "code",
   "execution_count": 12,
   "id": "5b2de7e3-7500-4633-a5ee-7fce486374b8",
   "metadata": {},
   "outputs": [],
   "source": [
    "adult_mia, column2discrete_value2value_mia = discretize_columns(adult_mia, non_continuous_columns_mia)"
   ]
  },
  {
   "cell_type": "code",
   "execution_count": 13,
   "id": "e6a29e96-7502-49e6-8387-6692c8493a58",
   "metadata": {},
   "outputs": [],
   "source": [
    "adult_mia.to_csv('../datasets/adult_with_sensitive/final_dataset.csv', index=False)"
   ]
  },
  {
   "cell_type": "code",
   "execution_count": 14,
   "id": "88dee99c-5fb5-49fb-9078-6df7617ff4e8",
   "metadata": {},
   "outputs": [],
   "source": [
    "with open('../datasets/adult_with_sensitive/final_continuous_columns.pickle', 'wb') as file:\n",
    "    pickle.dump(continuous_columns_mia, file)\n",
    "\n",
    "with open('../datasets/adult_with_sensitive/final_column2discrete_value2value.pickle', 'wb') as file:\n",
    "    pickle.dump(column2discrete_value2value_mia, file)"
   ]
  },
  {
   "cell_type": "markdown",
   "id": "0447f82c-52bc-4976-8fda-a58f7d5d0c20",
   "metadata": {},
   "source": [
    "## 1.3 Adult: Synthetic dataset from Adult"
   ]
  },
  {
   "cell_type": "code",
   "execution_count": 15,
   "id": "8f06cffd-7f58-4581-a8e1-a828f97ef65d",
   "metadata": {},
   "outputs": [],
   "source": [
    "if not os.path.exists('../datasets/synadult'):\n",
    "    os.makedirs('../datasets/synadult')"
   ]
  },
  {
   "cell_type": "code",
   "execution_count": 16,
   "id": "167e4c67-424d-40b6-bd3d-290111528e9c",
   "metadata": {},
   "outputs": [],
   "source": [
    "column_name2distribution = {}\n",
    "for column_name in adult_aia:\n",
    "    value_counts = adult_aia[column_name].value_counts(normalize=True)\n",
    "    column_name2distribution[column_name] = [(value, probability) for (value, probability) in zip(value_counts.index.values, value_counts.values)]"
   ]
  },
  {
   "cell_type": "code",
   "execution_count": 17,
   "id": "d0115c89-fb21-4ceb-80f7-df2dfa63657e",
   "metadata": {},
   "outputs": [],
   "source": [
    "np.random.seed(0)\n",
    "new_dataset = []\n",
    "for i in range(len(adult_aia)):\n",
    "    instance = []\n",
    "    for column_name in adult_aia:\n",
    "        instance.append(np.random.choice([value for value, probability in column_name2distribution[column_name]], p=[probability for value, probability in column_name2distribution[column_name]]))\n",
    "    new_dataset.append(instance)"
   ]
  },
  {
   "cell_type": "code",
   "execution_count": 18,
   "id": "04b0ed29-a79a-487e-a77d-ff056d9e5be5",
   "metadata": {},
   "outputs": [],
   "source": [
    "syn_adult = pd.DataFrame(new_dataset, columns = adult_aia.columns.values) "
   ]
  },
  {
   "cell_type": "code",
   "execution_count": 19,
   "id": "fe991924-1963-4dae-9e01-198bde54a277",
   "metadata": {},
   "outputs": [],
   "source": [
    "syn_adult.to_csv('../datasets/synadult/final_dataset.csv', index=False)"
   ]
  },
  {
   "cell_type": "code",
   "execution_count": 20,
   "id": "a23c842b-772b-4206-a754-762a436a905d",
   "metadata": {},
   "outputs": [],
   "source": [
    "with open('../datasets/synadult/final_continuous_columns.pickle', 'wb') as file:\n",
    "    pickle.dump(continuous_columns_aia, file)\n",
    "\n",
    "with open('../datasets/synadult/final_column2discrete_value2value.pickle', 'wb') as file:\n",
    "    pickle.dump(column2discrete_value2value_aia, file)"
   ]
  },
  {
   "cell_type": "markdown",
   "id": "52a733d4-52cc-46c8-b4b8-b7350bdfd671",
   "metadata": {},
   "source": [
    "# 2. Census"
   ]
  },
  {
   "cell_type": "markdown",
   "id": "c38a4f13-3af7-44d9-8a9c-fa311f84f2c4",
   "metadata": {},
   "source": [
    "The dataset is available here: https://archive.ics.uci.edu/dataset/117/census+income+kdd.\n",
    "Download it in folder `datasets/census`"
   ]
  },
  {
   "cell_type": "code",
   "execution_count": 21,
   "id": "3d276016-53a4-42d8-9268-cc9e4027a6e1",
   "metadata": {},
   "outputs": [],
   "source": [
    "column_description = \"\"\"(age) continuous\n",
    "(class of worker) nominal\n",
    "(detailed industry recode) nominal\n",
    "(detailed occupation recode) nominal\n",
    "(education) nominal\n",
    "(wage per hour) continuous\n",
    "(enroll in edu inst last wk) nominal\n",
    "(marital stat) nominal\n",
    "(major industry code) nominal\n",
    "(major occupation code) nominal\n",
    "(race) nominal\n",
    "(hispanic origin) nominal\n",
    "(sex) nominal\n",
    "(member of a labor union) nominal\n",
    "(reason for unemployment) nominal\n",
    "(full or part time employment stat) nominal\n",
    "(capital gains) continuous\n",
    "(capital losses) continuous\n",
    "(dividends from stocks) continuous\n",
    "(tax filer stat) nominal\n",
    "(region of previous residence) nominal\n",
    "(state of previous residence) nominal\n",
    "(detailed household and family stat) nominal\n",
    "(detailed household summary in household) nominal\n",
    "(instance weights) continuous\n",
    "(migration code-change in msa) nominal\n",
    "(migration code-change in reg) nominal\n",
    "(migration code-move within reg) nominal\n",
    "(live in this house 1 year ago) nominal\n",
    "(migration prev res in sunbelt) nominal\n",
    "(num persons worked for employer) continuous\n",
    "(family members under 18) nominal\n",
    "(country of birth father) nominal\n",
    "(country of birth mother) nominal\n",
    "(country of birth self) nominal\n",
    "(citizenship) nominal\n",
    "(own business or self employed) nominal\n",
    "(fill inc questionnaire for veterans admin) nominal\n",
    "(veterans benefits) nominal\n",
    "(weeks worked in year) continuous\n",
    "(year) nominal\n",
    "(income) nominal\"\"\"\n",
    "\n",
    "column_names = []\n",
    "continuous_columns = set()\n",
    "\n",
    "for line in column_description.split('\\n'):\n",
    "    parts = line.split('(')\n",
    "    column_name, column_type = parts[1].split(')')\n",
    "    column_type = column_type.strip()\n",
    "    column_name = column_name.replace(' ', '')\n",
    "    column_names.append(column_name)\n",
    "    if column_type == 'continuous':\n",
    "        continuous_columns.add(column_name)"
   ]
  },
  {
   "cell_type": "code",
   "execution_count": 22,
   "id": "6ddc8622-f9e4-4fdc-8a6c-34460861590e",
   "metadata": {},
   "outputs": [],
   "source": [
    "column_names = [column_name.lower().replace('-', '') for column_name in column_names]\n",
    "continuous_columns = {column_name.lower().replace('-', '') for column_name in continuous_columns}"
   ]
  },
  {
   "cell_type": "code",
   "execution_count": 23,
   "id": "849b5f43-181b-4f9d-80a5-916e3549560f",
   "metadata": {},
   "outputs": [],
   "source": [
    "census_train = pd.read_csv('../datasets/census/census-income.data', names=column_names)\n",
    "census_test = pd.read_csv('../datasets/census/census-income.test', names=column_names)\n",
    "census = pd.concat((census_train, census_test), ignore_index=True)"
   ]
  },
  {
   "cell_type": "code",
   "execution_count": 24,
   "id": "778238b5-c8f9-4d13-b89a-5543bef3debb",
   "metadata": {},
   "outputs": [],
   "source": [
    "census = census.applymap(lambda x: x.strip() if isinstance(x, str) else x)\n",
    "census = census.applymap(lambda x: 'Unknown' if isinstance(x, str) and x.strip() == '?' else x)"
   ]
  },
  {
   "cell_type": "markdown",
   "id": "5fddce8d-9d20-4cc8-a326-2e9b1c6026f4",
   "metadata": {},
   "source": [
    "## 2.1 Census: Original dataset for attribute inference attacks"
   ]
  },
  {
   "cell_type": "code",
   "execution_count": 25,
   "id": "f82f09b8-6870-4198-8264-fbf836994066",
   "metadata": {},
   "outputs": [],
   "source": [
    "columns_to_be_dropped = ['instanceweights', 'income']\n",
    "census_aia = drop_columns(census, columns_to_be_dropped)"
   ]
  },
  {
   "cell_type": "code",
   "execution_count": 26,
   "id": "38ba4e3d-a747-48cb-b6f7-780bfe819fe3",
   "metadata": {},
   "outputs": [],
   "source": [
    "column_names_aia = [column_name for column_name in column_names if column_name not in columns_to_be_dropped]\n",
    "continuous_columns_aia = {column_name for column_name in continuous_columns if column_name not in columns_to_be_dropped}\n",
    "non_continuous_columns_aia = [column_name for column_name in column_names if column_name not in continuous_columns and column_name not in columns_to_be_dropped]\n",
    "\n",
    "census_aia, column2discrete_value2value_aia = discretize_columns(census_aia, non_continuous_columns_aia)"
   ]
  },
  {
   "cell_type": "code",
   "execution_count": 27,
   "id": "9832b53c-577a-4e82-9cea-4e29151c9fab",
   "metadata": {},
   "outputs": [],
   "source": [
    "census_aia.to_csv('../datasets/census/final_dataset.csv', index=False)"
   ]
  },
  {
   "cell_type": "code",
   "execution_count": 28,
   "id": "6d12e5bf-23e2-4de1-a862-49ca05015da1",
   "metadata": {},
   "outputs": [],
   "source": [
    "with open('../datasets/census/final_continuous_columns.pickle', 'wb') as file:\n",
    "    pickle.dump(continuous_columns_aia, file)\n",
    "\n",
    "with open('../datasets/census/final_column2discrete_value2value.pickle', 'wb') as file:\n",
    "    pickle.dump(column2discrete_value2value_aia, file)"
   ]
  },
  {
   "cell_type": "markdown",
   "id": "09887952-910b-429c-9871-15fbd625d348",
   "metadata": {},
   "source": [
    "## 2.2 Census: Original dataset for membership inference attacks"
   ]
  },
  {
   "cell_type": "code",
   "execution_count": 29,
   "id": "d2e2b43a-61c7-46a3-8a88-5ffab3eab22e",
   "metadata": {},
   "outputs": [],
   "source": [
    "if not os.path.exists('../datasets/census_with_sensitive'):\n",
    "    os.makedirs('../datasets/census_with_sensitive')"
   ]
  },
  {
   "cell_type": "code",
   "execution_count": 30,
   "id": "6d8bbb7a-ac23-4c65-a2f3-b68eb78bc6f7",
   "metadata": {},
   "outputs": [],
   "source": [
    "columns_to_be_dropped = ['instanceweights']\n",
    "census_mia = drop_columns(census, columns_to_be_dropped)"
   ]
  },
  {
   "cell_type": "code",
   "execution_count": 31,
   "id": "8c65a4bd-db2c-4df9-8979-3c69347dabfd",
   "metadata": {},
   "outputs": [],
   "source": [
    "column_names_mia = [column_name for column_name in column_names if column_name not in columns_to_be_dropped]\n",
    "continuous_columns_mia = {column_name for column_name in continuous_columns if column_name not in columns_to_be_dropped}\n",
    "non_continuous_columns_mia = [column_name for column_name in column_names if column_name not in continuous_columns and column_name not in columns_to_be_dropped]\n",
    "census_mia, column2discrete_value2value_mia = discretize_columns(census_mia, non_continuous_columns_mia)"
   ]
  },
  {
   "cell_type": "code",
   "execution_count": 32,
   "id": "6ea4f72f-550a-422f-b799-052036b9826a",
   "metadata": {},
   "outputs": [],
   "source": [
    "census_mia.to_csv('../datasets/census_with_sensitive/final_dataset.csv', index=False)"
   ]
  },
  {
   "cell_type": "code",
   "execution_count": 33,
   "id": "3836b833-db48-420f-ae87-f96d627d0b77",
   "metadata": {},
   "outputs": [],
   "source": [
    "with open('../datasets/census_with_sensitive/final_continuous_columns.pickle', 'wb') as file:\n",
    "    pickle.dump(continuous_columns_mia, file)\n",
    "\n",
    "with open('../datasets/census_with_sensitive/final_column2discrete_value2value.pickle', 'wb') as file:\n",
    "    pickle.dump(column2discrete_value2value_mia, file)"
   ]
  },
  {
   "cell_type": "markdown",
   "id": "dfa97580-0464-482e-a4ee-daee9f9d9525",
   "metadata": {},
   "source": [
    "## 2.3 Census: Synthetic dataset from Census"
   ]
  },
  {
   "cell_type": "code",
   "execution_count": 34,
   "id": "b56baab6-04ed-4395-a6b4-dc40553c7a05",
   "metadata": {},
   "outputs": [],
   "source": [
    "if not os.path.exists('../datasets/syncensus'):\n",
    "    os.makedirs('../datasets/syncensus')"
   ]
  },
  {
   "cell_type": "code",
   "execution_count": 35,
   "id": "098f260d-aca9-4f6d-9349-4919ec0fd31a",
   "metadata": {},
   "outputs": [],
   "source": [
    "column_name2distribution = {}\n",
    "for column_name in census_aia:\n",
    "    value_counts = census_aia[column_name].value_counts(normalize=True)\n",
    "    column_name2distribution[column_name] = [(value, probability) for (value, probability) in zip(value_counts.index.values, value_counts.values)]"
   ]
  },
  {
   "cell_type": "code",
   "execution_count": 36,
   "id": "9ecbd7d8-7ac5-4eda-910a-c9b5ac64a0bc",
   "metadata": {},
   "outputs": [
    {
     "name": "stderr",
     "output_type": "stream",
     "text": [
      "100%|██████████████████████████████████████████████████████████████████████████| 299285/299285 [05:39<00:00, 880.61it/s]\n"
     ]
    }
   ],
   "source": [
    "np.random.seed(0)\n",
    "new_dataset = []\n",
    "for i in tqdm.tqdm(range(len(census_aia))):\n",
    "    instance = []\n",
    "    for column_name in census_aia:\n",
    "        instance.append(np.random.choice([value for value, probability in column_name2distribution[column_name]], p=[probability for value, probability in column_name2distribution[column_name]]))\n",
    "    new_dataset.append(instance)"
   ]
  },
  {
   "cell_type": "code",
   "execution_count": 37,
   "id": "08cb6cad-e8dc-4ffd-b034-a57e3190cbd5",
   "metadata": {},
   "outputs": [],
   "source": [
    "syn_census = pd.DataFrame(new_dataset, columns = census_aia.columns.values) "
   ]
  },
  {
   "cell_type": "code",
   "execution_count": 38,
   "id": "356080a1-caea-4680-92d2-b04adc62d9b6",
   "metadata": {},
   "outputs": [],
   "source": [
    "syn_census.to_csv('../datasets/syncensus/final_dataset.csv', index=False)"
   ]
  },
  {
   "cell_type": "code",
   "execution_count": 39,
   "id": "06a13118-c2fa-4127-8462-db3b1256293c",
   "metadata": {},
   "outputs": [],
   "source": [
    "with open('../datasets/syncensus/final_continuous_columns.pickle', 'wb') as file:\n",
    "    pickle.dump(continuous_columns_aia, file)\n",
    "\n",
    "with open('../datasets/syncensus/final_column2discrete_value2value.pickle', 'wb') as file:\n",
    "    pickle.dump(column2discrete_value2value_aia, file)"
   ]
  },
  {
   "cell_type": "markdown",
   "id": "0af72098-cba5-4ce0-a9bf-7771d7d5d65e",
   "metadata": {},
   "source": [
    "# 3. Insurance"
   ]
  },
  {
   "cell_type": "markdown",
   "id": "bda576d9-3fd8-4935-85c5-98c46d05c0ca",
   "metadata": {},
   "source": [
    "The dataset is available here: https://archive.ics.uci.edu/dataset/125/insurance+company+benchmark+coil+2000.\n",
    "Download it in folder `datasets/insurance`"
   ]
  },
  {
   "cell_type": "code",
   "execution_count": 40,
   "id": "e56152eb-eb8d-483c-8809-501e3431f8e6",
   "metadata": {},
   "outputs": [],
   "source": [
    "column_description = \"\"\"Nr Name Description Domain\n",
    "1 MOSTYPE Customer Subtype see L0\n",
    "2 MAANTHUI Number of houses 1   10\n",
    "3 MGEMOMV Avg size household 1   6\n",
    "4 MGEMLEEF Avg age see L1\n",
    "5 MOSHOOFD Customer main type see L2\n",
    "6 MGODRK Roman catholic see L3\n",
    "7 MGODPR Protestant ...\n",
    "8 MGODOV Other religion\n",
    "9 MGODGE No religion\n",
    "10 MRELGE Married\n",
    "11 MRELSA Living together\n",
    "12 MRELOV Other relation\n",
    "13 MFALLEEN Singles\n",
    "14 MFGEKIND Household without children\n",
    "15 MFWEKIND Household with children\n",
    "16 MOPLHOOG High level education\n",
    "17 MOPLMIDD Medium level education\n",
    "18 MOPLLAAG Lower level education\n",
    "19 MBERHOOG High status\n",
    "20 MBERZELF Entrepreneur\n",
    "21 MBERBOER Farmer\n",
    "22 MBERMIDD Middle management\n",
    "23 MBERARBG Skilled labourers\n",
    "24 MBERARBO Unskilled labourers\n",
    "25 MSKA Social class A\n",
    "26 MSKB1 Social class B1\n",
    "27 MSKB2 Social class B2\n",
    "28 MSKC Social class C\n",
    "29 MSKD Social class D\n",
    "30 MHHUUR Rented house\n",
    "31 MHKOOP Home owners\n",
    "32 MAUT1 1 car\n",
    "33 MAUT2 2 cars\n",
    "34 MAUT0 No car\n",
    "35 MZFONDS National Health Service\n",
    "36 MZPART Private health insurance\n",
    "37 MINKM30 Income < 30.000\n",
    "38 MINK3045 Income 30-45.000\n",
    "39 MINK4575 Income 45-75.000\n",
    "40 MINK7512 Income 75-122.000\n",
    "41 MINK123M Income >123.000\n",
    "42 MINKGEM Average income\n",
    "43 MKOOPKLA Purchasing power class\n",
    "44 PWAPART Contribution private third party insurance see L4\n",
    "45 PWABEDR Contribution third party insurance (firms) ...\n",
    "46 PWALAND Contribution third party insurane (agriculture)\n",
    "47 PPERSAUT Contribution car policies\n",
    "48 PBESAUT Contribution delivery van policies\n",
    "49 PMOTSCO Contribution motorcycle/scooter policies\n",
    "50 PVRAAUT Contribution lorry policies\n",
    "51 PAANHANG Contribution trailer policies\n",
    "52 PTRACTOR Contribution tractor policies\n",
    "53 PWERKT Contribution agricultural machines policies \n",
    "54 PBROM Contribution moped policies\n",
    "55 PLEVEN Contribution life insurances\n",
    "56 PPERSONG Contribution private accident insurance policies\n",
    "57 PGEZONG Contribution family accidents insurance policies\n",
    "58 PWAOREG Contribution disability insurance policies\n",
    "59 PBRAND Contribution fire policies\n",
    "60 PZEILPL Contribution surfboard policies\n",
    "61 PPLEZIER Contribution boat policies\n",
    "62 PFIETS Contribution bicycle policies\n",
    "63 PINBOED Contribution property insurance policies\n",
    "64 PBYSTAND Contribution social security insurance policies\n",
    "65 AWAPART Number of private third party insurance 1 - 12\n",
    "66 AWABEDR Number of third party insurance (firms) ...\n",
    "67 AWALAND Number of third party insurane (agriculture)\n",
    "68 APERSAUT Number of car policies\n",
    "69 ABESAUT Number of delivery van policies\n",
    "70 AMOTSCO Number of motorcycle/scooter policies\n",
    "71 AVRAAUT Number of lorry policies\n",
    "72 AAANHANG Number of trailer policies\n",
    "73 ATRACTOR Number of tractor policies\n",
    "74 AWERKT Number of agricultural machines policies\n",
    "75 ABROM Number of moped policies\n",
    "76 ALEVEN Number of life insurances\n",
    "77 APERSONG Number of private accident insurance policies\n",
    "78 AGEZONG Number of family accidents insurance policies\n",
    "79 AWAOREG Number of disability insurance policies\n",
    "80 ABRAND Number of fire policies\n",
    "81 AZEILPL Number of surfboard policies\n",
    "82 APLEZIER Number of boat policies\n",
    "83 AFIETS Number of bicycle policies\n",
    "84 AINBOED Number of property insurance policies\n",
    "85 ABYSTAND Number of social security insurance policies\n",
    "86 CARAVAN Number of mobile home policies 0 - 1\"\"\"\n",
    "\n",
    "column_names = []\n",
    "for line in column_description.split('\\n')[1:]:\n",
    "    column_names.append(line.split()[1])\n",
    "column_names = process_column_names(column_names)"
   ]
  },
  {
   "cell_type": "code",
   "execution_count": 41,
   "id": "32843552-acc4-4d62-97dc-c2ede109d521",
   "metadata": {},
   "outputs": [],
   "source": [
    "insurance_train = pd.read_csv('../datasets/insurance/ticdata2000.txt', sep='\\t', names=column_names)\n",
    "insurance_eval = pd.read_csv('../datasets/insurance/ticeval2000.txt', sep='\\t', names=column_names)\n",
    "insurance = pd.concat((insurance_train, insurance_eval), ignore_index=True)\n",
    "\n",
    "columns_to_drop = column_names[43:-1]\n",
    "insurance.drop(columns=columns_to_drop, inplace=True)\n",
    "\n",
    "column_names = [column_name for column_name in column_names if column_name not in columns_to_drop]\n",
    "continuous_columns = column_names[:]"
   ]
  },
  {
   "cell_type": "markdown",
   "id": "0112a4e5-0889-4aa5-acc1-feb381f6b201",
   "metadata": {},
   "source": [
    "## 3.1 Insurance: Original dataset for attribute inference attacks"
   ]
  },
  {
   "cell_type": "code",
   "execution_count": 42,
   "id": "8512d9d9-1313-4d88-829a-8676a0707ad6",
   "metadata": {},
   "outputs": [],
   "source": [
    "columns_to_be_dropped = ['caravan']\n",
    "insurance_aia = drop_columns(insurance, columns_to_be_dropped)\n",
    "\n",
    "column_names_aia = [column_name for column_name in column_names if column_name not in columns_to_be_dropped]\n",
    "continuous_columns_aia = [column_name for column_name in continuous_columns if column_name not in columns_to_be_dropped]"
   ]
  },
  {
   "cell_type": "code",
   "execution_count": 43,
   "id": "f50ce128-7a5d-447f-bd38-70a162922241",
   "metadata": {},
   "outputs": [],
   "source": [
    "insurance_aia.to_csv('../datasets/insurance/final_dataset.csv', index=False)\n",
    "with open('../datasets/insurance/final_continuous_columns.pickle', 'wb') as file:\n",
    "    pickle.dump(continuous_columns_aia, file)"
   ]
  },
  {
   "cell_type": "markdown",
   "id": "0a31fce4-cb47-46c2-a595-5740a34ec789",
   "metadata": {},
   "source": [
    "## 3.2 Insurance: Original dataset for membership inference attacks"
   ]
  },
  {
   "cell_type": "code",
   "execution_count": 44,
   "id": "9a6ae263-19c8-4d55-942c-012cd3834e7c",
   "metadata": {},
   "outputs": [],
   "source": [
    "if not os.path.exists('../datasets/insurance_with_sensitive'):\n",
    "    os.makedirs('../datasets/insurance_with_sensitive')"
   ]
  },
  {
   "cell_type": "code",
   "execution_count": 45,
   "id": "397093e0-d2bd-494a-8659-a888a20fcbee",
   "metadata": {},
   "outputs": [],
   "source": [
    "insurance_eval_sensitive_attribute = pd.read_csv('../datasets/insurance/tictgts2000.txt', names=['caravan'])\n",
    "insurance.loc[insurance.index >= len(insurance_train), 'caravan'] = insurance_eval_sensitive_attribute.values.reshape(-1)\n",
    "insurance['caravan'] = insurance['caravan'].astype(int)"
   ]
  },
  {
   "cell_type": "code",
   "execution_count": 46,
   "id": "e5c67249-e141-43a5-a5a5-557e6c5b6020",
   "metadata": {},
   "outputs": [],
   "source": [
    "continuous_columns_mia = column_names[:-1]"
   ]
  },
  {
   "cell_type": "code",
   "execution_count": 47,
   "id": "3de432e0-d7e7-4b4a-9b50-4c4388671c18",
   "metadata": {},
   "outputs": [],
   "source": [
    "insurance.to_csv('../datasets/insurance_with_sensitive/final_dataset.csv', index=False)\n",
    "with open('../datasets/insurance_with_sensitive/final_continuous_columns.pickle', 'wb') as file:\n",
    "    pickle.dump(continuous_columns_mia, file)"
   ]
  },
  {
   "cell_type": "markdown",
   "id": "b9a3fcb9-fd94-4ebc-a1cd-11ed3362b856",
   "metadata": {},
   "source": [
    "## 3.3 Insurance: Synthetic dataset from Insurance"
   ]
  },
  {
   "cell_type": "code",
   "execution_count": 48,
   "id": "5521a06d-4a5e-4dce-bc1a-b94b46a0ba92",
   "metadata": {},
   "outputs": [],
   "source": [
    "if not os.path.exists('../datasets/syninsurance'):\n",
    "    os.makedirs('../datasets/syninsurance')"
   ]
  },
  {
   "cell_type": "code",
   "execution_count": 49,
   "id": "816c888c-b4c7-44a6-beb6-127a89683271",
   "metadata": {},
   "outputs": [],
   "source": [
    "column_name2distribution = {}\n",
    "for column_name in insurance_aia:\n",
    "    value_counts = insurance_aia[column_name].value_counts(normalize=True)\n",
    "    column_name2distribution[column_name] = [(value, probability) for (value, probability) in zip(value_counts.index.values, value_counts.values)]"
   ]
  },
  {
   "cell_type": "code",
   "execution_count": 50,
   "id": "9b7092fc-ed50-4d4a-ac2e-4f9233fc7cf5",
   "metadata": {},
   "outputs": [
    {
     "name": "stderr",
     "output_type": "stream",
     "text": [
      "100%|█████████████████████████████████████████████████████████████████████████████| 9822/9822 [00:07<00:00, 1257.75it/s]\n"
     ]
    }
   ],
   "source": [
    "np.random.seed(0)\n",
    "new_dataset = []\n",
    "for i in tqdm.tqdm(range(len(insurance_aia))):\n",
    "    instance = []\n",
    "    for column_name in insurance_aia:\n",
    "        instance.append(np.random.choice([value for value, probability in column_name2distribution[column_name]], p=[probability for value, probability in column_name2distribution[column_name]]))\n",
    "    new_dataset.append(instance)"
   ]
  },
  {
   "cell_type": "code",
   "execution_count": 51,
   "id": "67c2de2d-874f-4e05-86d9-dd3757626320",
   "metadata": {},
   "outputs": [],
   "source": [
    "syn_insurance = pd.DataFrame(new_dataset, columns = insurance_aia.columns.values) "
   ]
  },
  {
   "cell_type": "code",
   "execution_count": 52,
   "id": "c9626c18-9e51-4eb3-ace9-7b3870950014",
   "metadata": {},
   "outputs": [],
   "source": [
    "syn_insurance.to_csv('../datasets/syninsurance/final_dataset.csv', index=False)\n",
    "with open('../datasets/syninsurance/final_continuous_columns.pickle', 'wb') as file:\n",
    "    pickle.dump(continuous_columns_aia, file)"
   ]
  }
 ],
 "metadata": {
  "kernelspec": {
   "display_name": "apa_targeted_extended_gpu_pytorch",
   "language": "python",
   "name": "apa_targeted_extended_gpu_pytorch"
  },
  "language_info": {
   "codemirror_mode": {
    "name": "ipython",
    "version": 3
   },
   "file_extension": ".py",
   "mimetype": "text/x-python",
   "name": "python",
   "nbconvert_exporter": "python",
   "pygments_lexer": "ipython3",
   "version": "3.9.13"
  }
 },
 "nbformat": 4,
 "nbformat_minor": 5
}
